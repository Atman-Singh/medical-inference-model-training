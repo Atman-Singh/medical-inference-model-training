{
  "cells": [
    {
      "cell_type": "code",
      "execution_count": null,
      "metadata": {
        "id": "KU71ZwFnCJS5",
        "colab": {
          "base_uri": "https://localhost:8080/"
        },
        "outputId": "5aafe5d6-0736-4bac-9cde-bdfaaa781970",
        "collapsed": true
      },
      "outputs": [
        {
          "output_type": "stream",
          "name": "stdout",
          "text": [
            
          ]
        }
      ],
      "source": [
        "!pip install transformers accelerate bitsandbytes datasets sentence_transformers datasets peft trl fire handler"
      ]
    },
    {
      "cell_type": "code",
      "execution_count": null,
      "metadata": {
        "id": "ADwNvz7QCa_J",
        "colab": {
          "base_uri": "https://localhost:8080/"
        },
        "outputId": "a72fcc77-4e52-4539-8662-abbd1667e655",
        "collapsed": true
      },
      "outputs": [
      ],
      "source": [
        "import os\n",
        "import sys\n",
        "from typing import Tuple, Union\n",
        "from huggingface_hub import login\n",
        "from google.colab import userdata\n",
        "\n",
        "import fire\n",
        "import torch\n",
        "from datasets import load_dataset, concatenate_datasets, load_from_disk\n",
        "\n",
        "from peft import (\n",
        "    LoraConfig,\n",
        "    get_peft_model,\n",
        "    get_peft_model_state_dict,\n",
        "    prepare_model_for_int8_training,\n",
        "    PromptTuningConfig,\n",
        "    TaskType,\n",
        "    PromptTuningInit\n",
        ")\n",
        "\n",
        "from transformers import (\n",
        "    AutoModelForCausalLM,\n",
        "    AutoTokenizer,\n",
        "    DataCollatorForSeq2Seq,\n",
        "    LlamaForCausalLM,\n",
        "    LlamaTokenizer,\n",
        "    Trainer,\n",
        "    TrainingArguments,\n",
        "    DataCollatorForLanguageModeling,\n",
        "    BitsAndBytesConfig\n",
        ")\n",
        "\n",
        "from trl import SFTTrainer\n",
        "\n",
        "from google.colab import drive"
      ]
    },
    {
      "cell_type": "code",
      "execution_count": null,
      "metadata": {
        "colab": {
          "base_uri": "https://localhost:8080/"
        },
        "id": "GrXX_953T558",
        "outputId": "313f9010-2b16-4746-8d1a-add76349476a",
        "collapsed": true
      },
      "outputs": [
      ],
      "source": [
        "# log into huggingface hub\n",
        "login(token=userdata.get('HF_KEY'))\n",
        "!huggingface-cli whoami"
      ]
    },
    {
      "cell_type": "code",
      "source": [
        "# add google drive functionality for storing save states\n",
        "mountpoint = '/content/drive'\n",
        "drive.mount(mountpoint)"
      ],
      "metadata": {
        "id": "GDS5fQ4A6ZwA"
      },
      "execution_count": null,
      "outputs": []
    },
    {
      "cell_type": "code",
      "execution_count": null,
      "metadata": {
        "id": "ZEVdEKejC4Re",
        "colab": {
          "base_uri": "https://localhost:8080/",
          "height": 84,
          "referenced_widgets": [
            "223cd286fd26481cbaa75bd41822722f",
            "050796c572ce4be08e3c316c3c63fbf6",
            "81561c8f298c49b99f1e5dc809eb19b5",
            "6c50bda81e7841ae8f63b483b2fd549f",
            "8369c616a2304d4bb3ef0027fc2a1d69",
            "02050d2e0a48437a82cfa846e11d4371",
            "39a592e6eebe438c9999b4dd50dc0d54",
            "578033dbcd304b21a9badb9aec26b9aa",
            "4187e9182d144aeeb813f73d5163d59c",
            "e169df71cc9e452aa8ba31ada13b22e4",
            "be70d503b2b248c881b2bbb1df6e2896"
          ]
        },
        "outputId": "2c84742f-ef32-4a03-9f9c-d44cefd83340",
        "collapsed": true
      },
      "outputs": [],
      "source": [
        "# parameters for quantization, makes it easier for less powerful GPUs to run the model\n",
        "bnb_config = BitsAndBytesConfig(\n",
        "        load_in_4bit=True,\n",
        "        bnb_4bit_quant_type=\"nf4\",\n",
        "        bnb_4bit_compute_dtype=torch.float16,\n",
        ")\n",
        "\n",
        "# create instance of Llama2 base model and quantize\n",
        "model_id = 'meta-llama/Llama-2-7b-hf'\n",
        "model = AutoModelForCausalLM.from_pretrained(\n",
        "    model_id,\n",
        "    quantization_config=bnb_config,\n",
        "    device_map='auto'\n",
        ")\n",
        "model = prepare_model_for_int8_training(model)"
      ]
    },
    {
      "cell_type": "code",
      "execution_count": null,
      "metadata": {
        "id": "b1t18O4ST3rt"
      },
      "outputs": [],
      "source": [
        "# derive tokenizer from base model\n",
        "tokenizer = AutoTokenizer.from_pretrained(model_id)\n",
        "tokenizer.pad_token = tokenizer.eos_token\n",
        "tokenizer.padding_side = \"right\"\n",
        "\n",
        "model.config.pretraining_tp = 1"
      ]
    },
    {
      "cell_type": "code",
      "source": [
        "# load medical data from HuggingFace\n",
        "dataset = load_dataset(userdata.get('DATASET_URL'), split='train')"
      ],
      "metadata": {
        "id": "9OeOve55jSSy"
      },
      "execution_count": null,
      "outputs": []
    },
    {
      "cell_type": "code",
      "execution_count": null,
      "metadata": {
        "id": "-71uW-_CUZrY"
      },
      "outputs": [],
      "source": [
        "# parameters for peft\n",
        "peft_config = LoraConfig(\n",
        "    lora_alpha=16,\n",
        "    lora_dropout=0.1,\n",
        "    r=64,\n",
        "    bias=\"none\",\n",
        "    task_type=\"CAUSAL_LM\",\n",
        ")"
      ]
    },
    {
      "cell_type": "code",
      "source": [
        "# directory to store save states\n",
        "output_dir = os.path.join(mountpoint, 'My Drive', 'checkpoints')"
      ],
      "metadata": {
        "id": "ckl17ptrAqL6"
      },
      "execution_count": null,
      "outputs": []
    },
    {
      "cell_type": "code",
      "execution_count": null,
      "metadata": {
        "id": "SXXDwYwfYOgt"
      },
      "outputs": [],
      "source": [
        "# arguments for supervised fine tuning\n",
        "training_args = TrainingArguments(\n",
        "    output_dir=output_dir,\n",
        "    per_device_train_batch_size=4,\n",
        "    gradient_accumulation_steps=4,\n",
        "    optim='paged_adamw_32bit',\n",
        "    save_steps=100,\n",
        "    logging_steps=10,\n",
        "    learning_rate=2e-4,\n",
        "    logging_first_step=True,\n",
        "    fp16=True,\n",
        "    max_grad_norm=0.3,\n",
        "    max_steps=5000,\n",
        "    warmup_ratio=0.03,\n",
        "    group_by_length=True,\n",
        "    lr_scheduler_type=\"constant\",\n",
        "    report_to=\"tensorboard\",\n",
        ")\n",
        "model.config.use_cache=False"
      ]
    },
    {
      "cell_type": "code",
      "execution_count": null,
      "metadata": {
        "id": "gwE_R6JTZNuo"
      },
      "outputs": [],
      "source": [
        "# data collator organizes data into batches and truncates them to equal length\n",
        "data_collator = DataCollatorForLanguageModeling(tokenizer=tokenizer, mlm=False)"
      ]
    },
    {
      "cell_type": "code",
      "execution_count": null,
      "metadata": {
        "id": "MTiaMXHhW9G9"
      },
      "outputs": [],
      "source": [
        "# create isntance of supervised fine tuning trainer and define what data column to reference\n",
        "trainer = SFTTrainer(\n",
        "    model,\n",
        "    peft_config=peft_config,\n",
        "    train_dataset=dataset,\n",
        "    dataset_text_field=\"input\",\n",
        "    max_seq_length=512,\n",
        "    args=training_args,\n",
        "    data_collator=data_collator,\n",
        "    packing=False\n",
        ")"
      ]
    },
    {
      "cell_type": "code",
      "execution_count": null,
      "metadata": {
        "id": "IuP6UpZ0UbvV",
        "colab": {
          "base_uri": "https://localhost:8080/",
          "height": 1000
        },
        "outputId": "5821bfd2-4dc2-4753-a7d7-3c4efe56d637"
      },
      "outputs": [],
      "source": [
        "# run the trainer, search for last save state if ran after being interupted\n",
        "trainer.train(resume_from_checkpoint = True)"
      ]
    },
    {
      "cell_type": "code",
      "execution_count": null,
      "metadata": {
        "id": "SX-Yswckbqzh",
        "colab": {
          "base_uri": "https://localhost:8080/",
          "height": 193
        },
        "outputId": "88e3f192-1597-4591-b661-26e40e3b8d40",
        "collapsed": true
      },
      "outputs": [],
      "source": [
        "# save model to google drive directory\n",
        "model_dir = os.path.join(mountpoint, 'MyDrive', 'medai-model')\n",
        "trainer.save_model(model_dir)"
      ]
    }
  ],
  "metadata": {
    "accelerator": "GPU",
    "colab": {
      "machine_shape": "hm",
      "provenance": [],
      "gpuType": "V100",
      "history_visible": true,
      "authorship_tag": "ABX9TyPBiqYFJY3NLYqGNQSOJvn3"
    },
    "kernelspec": {
      "display_name": "Python 3",
      "name": "python3"
    },
    "language_info": {
      "name": "python"
    },
    "widgets": {
      "application/vnd.jupyter.widget-state+json": {
        "223cd286fd26481cbaa75bd41822722f": {
          "model_module": "@jupyter-widgets/controls",
          "model_name": "HBoxModel",
          "model_module_version": "1.5.0",
          "state": {
            "_dom_classes": [],
            "_model_module": "@jupyter-widgets/controls",
            "_model_module_version": "1.5.0",
            "_model_name": "HBoxModel",
            "_view_count": null,
            "_view_module": "@jupyter-widgets/controls",
            "_view_module_version": "1.5.0",
            "_view_name": "HBoxView",
            "box_style": "",
            "children": [
              "IPY_MODEL_050796c572ce4be08e3c316c3c63fbf6",
              "IPY_MODEL_81561c8f298c49b99f1e5dc809eb19b5",
              "IPY_MODEL_6c50bda81e7841ae8f63b483b2fd549f"
            ],
            "layout": "IPY_MODEL_8369c616a2304d4bb3ef0027fc2a1d69"
          }
        },
        "050796c572ce4be08e3c316c3c63fbf6": {
          "model_module": "@jupyter-widgets/controls",
          "model_name": "HTMLModel",
          "model_module_version": "1.5.0",
          "state": {
            "_dom_classes": [],
            "_model_module": "@jupyter-widgets/controls",
            "_model_module_version": "1.5.0",
            "_model_name": "HTMLModel",
            "_view_count": null,
            "_view_module": "@jupyter-widgets/controls",
            "_view_module_version": "1.5.0",
            "_view_name": "HTMLView",
            "description": "",
            "description_tooltip": null,
            "layout": "IPY_MODEL_02050d2e0a48437a82cfa846e11d4371",
            "placeholder": "​",
            "style": "IPY_MODEL_39a592e6eebe438c9999b4dd50dc0d54",
            "value": "Loading checkpoint shards: 100%"
          }
        },
        "81561c8f298c49b99f1e5dc809eb19b5": {
          "model_module": "@jupyter-widgets/controls",
          "model_name": "FloatProgressModel",
          "model_module_version": "1.5.0",
          "state": {
            "_dom_classes": [],
            "_model_module": "@jupyter-widgets/controls",
            "_model_module_version": "1.5.0",
            "_model_name": "FloatProgressModel",
            "_view_count": null,
            "_view_module": "@jupyter-widgets/controls",
            "_view_module_version": "1.5.0",
            "_view_name": "ProgressView",
            "bar_style": "success",
            "description": "",
            "description_tooltip": null,
            "layout": "IPY_MODEL_578033dbcd304b21a9badb9aec26b9aa",
            "max": 2,
            "min": 0,
            "orientation": "horizontal",
            "style": "IPY_MODEL_4187e9182d144aeeb813f73d5163d59c",
            "value": 2
          }
        },
        "6c50bda81e7841ae8f63b483b2fd549f": {
          "model_module": "@jupyter-widgets/controls",
          "model_name": "HTMLModel",
          "model_module_version": "1.5.0",
          "state": {
            "_dom_classes": [],
            "_model_module": "@jupyter-widgets/controls",
            "_model_module_version": "1.5.0",
            "_model_name": "HTMLModel",
            "_view_count": null,
            "_view_module": "@jupyter-widgets/controls",
            "_view_module_version": "1.5.0",
            "_view_name": "HTMLView",
            "description": "",
            "description_tooltip": null,
            "layout": "IPY_MODEL_e169df71cc9e452aa8ba31ada13b22e4",
            "placeholder": "​",
            "style": "IPY_MODEL_be70d503b2b248c881b2bbb1df6e2896",
            "value": " 2/2 [01:11&lt;00:00, 32.98s/it]"
          }
        },
        "8369c616a2304d4bb3ef0027fc2a1d69": {
          "model_module": "@jupyter-widgets/base",
          "model_name": "LayoutModel",
          "model_module_version": "1.2.0",
          "state": {
            "_model_module": "@jupyter-widgets/base",
            "_model_module_version": "1.2.0",
            "_model_name": "LayoutModel",
            "_view_count": null,
            "_view_module": "@jupyter-widgets/base",
            "_view_module_version": "1.2.0",
            "_view_name": "LayoutView",
            "align_content": null,
            "align_items": null,
            "align_self": null,
            "border": null,
            "bottom": null,
            "display": null,
            "flex": null,
            "flex_flow": null,
            "grid_area": null,
            "grid_auto_columns": null,
            "grid_auto_flow": null,
            "grid_auto_rows": null,
            "grid_column": null,
            "grid_gap": null,
            "grid_row": null,
            "grid_template_areas": null,
            "grid_template_columns": null,
            "grid_template_rows": null,
            "height": null,
            "justify_content": null,
            "justify_items": null,
            "left": null,
            "margin": null,
            "max_height": null,
            "max_width": null,
            "min_height": null,
            "min_width": null,
            "object_fit": null,
            "object_position": null,
            "order": null,
            "overflow": null,
            "overflow_x": null,
            "overflow_y": null,
            "padding": null,
            "right": null,
            "top": null,
            "visibility": null,
            "width": null
          }
        },
        "02050d2e0a48437a82cfa846e11d4371": {
          "model_module": "@jupyter-widgets/base",
          "model_name": "LayoutModel",
          "model_module_version": "1.2.0",
          "state": {
            "_model_module": "@jupyter-widgets/base",
            "_model_module_version": "1.2.0",
            "_model_name": "LayoutModel",
            "_view_count": null,
            "_view_module": "@jupyter-widgets/base",
            "_view_module_version": "1.2.0",
            "_view_name": "LayoutView",
            "align_content": null,
            "align_items": null,
            "align_self": null,
            "border": null,
            "bottom": null,
            "display": null,
            "flex": null,
            "flex_flow": null,
            "grid_area": null,
            "grid_auto_columns": null,
            "grid_auto_flow": null,
            "grid_auto_rows": null,
            "grid_column": null,
            "grid_gap": null,
            "grid_row": null,
            "grid_template_areas": null,
            "grid_template_columns": null,
            "grid_template_rows": null,
            "height": null,
            "justify_content": null,
            "justify_items": null,
            "left": null,
            "margin": null,
            "max_height": null,
            "max_width": null,
            "min_height": null,
            "min_width": null,
            "object_fit": null,
            "object_position": null,
            "order": null,
            "overflow": null,
            "overflow_x": null,
            "overflow_y": null,
            "padding": null,
            "right": null,
            "top": null,
            "visibility": null,
            "width": null
          }
        },
        "39a592e6eebe438c9999b4dd50dc0d54": {
          "model_module": "@jupyter-widgets/controls",
          "model_name": "DescriptionStyleModel",
          "model_module_version": "1.5.0",
          "state": {
            "_model_module": "@jupyter-widgets/controls",
            "_model_module_version": "1.5.0",
            "_model_name": "DescriptionStyleModel",
            "_view_count": null,
            "_view_module": "@jupyter-widgets/base",
            "_view_module_version": "1.2.0",
            "_view_name": "StyleView",
            "description_width": ""
          }
        },
        "578033dbcd304b21a9badb9aec26b9aa": {
          "model_module": "@jupyter-widgets/base",
          "model_name": "LayoutModel",
          "model_module_version": "1.2.0",
          "state": {
            "_model_module": "@jupyter-widgets/base",
            "_model_module_version": "1.2.0",
            "_model_name": "LayoutModel",
            "_view_count": null,
            "_view_module": "@jupyter-widgets/base",
            "_view_module_version": "1.2.0",
            "_view_name": "LayoutView",
            "align_content": null,
            "align_items": null,
            "align_self": null,
            "border": null,
            "bottom": null,
            "display": null,
            "flex": null,
            "flex_flow": null,
            "grid_area": null,
            "grid_auto_columns": null,
            "grid_auto_flow": null,
            "grid_auto_rows": null,
            "grid_column": null,
            "grid_gap": null,
            "grid_row": null,
            "grid_template_areas": null,
            "grid_template_columns": null,
            "grid_template_rows": null,
            "height": null,
            "justify_content": null,
            "justify_items": null,
            "left": null,
            "margin": null,
            "max_height": null,
            "max_width": null,
            "min_height": null,
            "min_width": null,
            "object_fit": null,
            "object_position": null,
            "order": null,
            "overflow": null,
            "overflow_x": null,
            "overflow_y": null,
            "padding": null,
            "right": null,
            "top": null,
            "visibility": null,
            "width": null
          }
        },
        "4187e9182d144aeeb813f73d5163d59c": {
          "model_module": "@jupyter-widgets/controls",
          "model_name": "ProgressStyleModel",
          "model_module_version": "1.5.0",
          "state": {
            "_model_module": "@jupyter-widgets/controls",
            "_model_module_version": "1.5.0",
            "_model_name": "ProgressStyleModel",
            "_view_count": null,
            "_view_module": "@jupyter-widgets/base",
            "_view_module_version": "1.2.0",
            "_view_name": "StyleView",
            "bar_color": null,
            "description_width": ""
          }
        },
        "e169df71cc9e452aa8ba31ada13b22e4": {
          "model_module": "@jupyter-widgets/base",
          "model_name": "LayoutModel",
          "model_module_version": "1.2.0",
          "state": {
            "_model_module": "@jupyter-widgets/base",
            "_model_module_version": "1.2.0",
            "_model_name": "LayoutModel",
            "_view_count": null,
            "_view_module": "@jupyter-widgets/base",
            "_view_module_version": "1.2.0",
            "_view_name": "LayoutView",
            "align_content": null,
            "align_items": null,
            "align_self": null,
            "border": null,
            "bottom": null,
            "display": null,
            "flex": null,
            "flex_flow": null,
            "grid_area": null,
            "grid_auto_columns": null,
            "grid_auto_flow": null,
            "grid_auto_rows": null,
            "grid_column": null,
            "grid_gap": null,
            "grid_row": null,
            "grid_template_areas": null,
            "grid_template_columns": null,
            "grid_template_rows": null,
            "height": null,
            "justify_content": null,
            "justify_items": null,
            "left": null,
            "margin": null,
            "max_height": null,
            "max_width": null,
            "min_height": null,
            "min_width": null,
            "object_fit": null,
            "object_position": null,
            "order": null,
            "overflow": null,
            "overflow_x": null,
            "overflow_y": null,
            "padding": null,
            "right": null,
            "top": null,
            "visibility": null,
            "width": null
          }
        },
        "be70d503b2b248c881b2bbb1df6e2896": {
          "model_module": "@jupyter-widgets/controls",
          "model_name": "DescriptionStyleModel",
          "model_module_version": "1.5.0",
          "state": {
            "_model_module": "@jupyter-widgets/controls",
            "_model_module_version": "1.5.0",
            "_model_name": "DescriptionStyleModel",
            "_view_count": null,
            "_view_module": "@jupyter-widgets/base",
            "_view_module_version": "1.2.0",
            "_view_name": "StyleView",
            "description_width": ""
          }
        }
      }
    }
  },
  "nbformat": 4,
  "nbformat_minor": 0
}
